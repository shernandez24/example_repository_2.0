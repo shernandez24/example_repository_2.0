{
 "cells": [
  {
   "cell_type": "code",
   "execution_count": null,
   "id": "9077d911",
   "metadata": {},
   "outputs": [],
   "source": [
    "# Task: \n",
    "# 1) create a new repository\n",
    "# 2) create a jupyter notebook file that has a function which takes a number and returns 5 + that number. \n",
    "# if the number is 4, it should return 9."
   ]
  },
  {
   "cell_type": "code",
   "execution_count": 1,
   "id": "72fe863e",
   "metadata": {},
   "outputs": [],
   "source": [
    "def function_5(number):\n",
    "    return 5 + number"
   ]
  },
  {
   "cell_type": "code",
   "execution_count": 2,
   "id": "57d1e769",
   "metadata": {},
   "outputs": [
    {
     "name": "stdout",
     "output_type": "stream",
     "text": [
      "9\n"
     ]
    }
   ],
   "source": [
    "result = function_5(4)\n",
    "print(result)"
   ]
  }
 ],
 "metadata": {
  "kernelspec": {
   "display_name": "Python 3 (ipykernel)",
   "language": "python",
   "name": "python3"
  },
  "language_info": {
   "codemirror_mode": {
    "name": "ipython",
    "version": 3
   },
   "file_extension": ".py",
   "mimetype": "text/x-python",
   "name": "python",
   "nbconvert_exporter": "python",
   "pygments_lexer": "ipython3",
   "version": "3.10.9"
  }
 },
 "nbformat": 4,
 "nbformat_minor": 5
}
